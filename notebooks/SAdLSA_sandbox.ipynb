{
 "cells": [
  {
   "cell_type": "markdown",
   "id": "6253bbf7",
   "metadata": {},
   "source": [
    "# Test bed for loading database with SAdLSA data\n",
    "\n",
    "This notebook is a sandbox for loading SAdLSA data into the sqlite3 database."
   ]
  },
  {
   "cell_type": "code",
   "execution_count": 4,
   "id": "d23a0817",
   "metadata": {},
   "outputs": [
    {
     "name": "stdout",
     "output_type": "stream",
     "text": [
      "/Users/may/Projects/alphafold/structural_DLFA/parsers\n"
     ]
    }
   ],
   "source": [
    "cd ../parsers/"
   ]
  },
  {
   "cell_type": "code",
   "execution_count": 5,
   "id": "42831cc4",
   "metadata": {},
   "outputs": [],
   "source": [
    "import sadlsa_parsers"
   ]
  },
  {
   "cell_type": "code",
   "execution_count": 6,
   "id": "3248e355",
   "metadata": {},
   "outputs": [],
   "source": [
    "from pathlib import Path"
   ]
  },
  {
   "cell_type": "code",
   "execution_count": 7,
   "id": "70ae8969",
   "metadata": {},
   "outputs": [],
   "source": [
    "data_dir = Path('/Users/may/Projects/data/PSP/desulfovibrio_vulgaris/out/WP_164928147.1/sadlsa_pdb70_210310')"
   ]
  },
  {
   "cell_type": "code",
   "execution_count": 10,
   "id": "c6733ed9",
   "metadata": {},
   "outputs": [],
   "source": [
    "score_file = data_dir / 'WP_164928147.1_sco.dat'\n",
    "alignment_file = data_dir / 'WP_164928147.1_aln.dat'"
   ]
  },
  {
   "cell_type": "code",
   "execution_count": null,
   "id": "912e08cb",
   "metadata": {},
   "outputs": [],
   "source": []
  }
 ],
 "metadata": {
  "kernelspec": {
   "display_name": "Python 3 (ipykernel)",
   "language": "python",
   "name": "python3"
  },
  "language_info": {
   "codemirror_mode": {
    "name": "ipython",
    "version": 3
   },
   "file_extension": ".py",
   "mimetype": "text/x-python",
   "name": "python",
   "nbconvert_exporter": "python",
   "pygments_lexer": "ipython3",
   "version": "3.9.6"
  }
 },
 "nbformat": 4,
 "nbformat_minor": 5
}
