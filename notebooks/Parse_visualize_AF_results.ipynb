{
 "cells": [
  {
   "cell_type": "markdown",
   "id": "continued-analyst",
   "metadata": {},
   "source": [
    "# Test bed for loading database with AF data and visualizing the results\n",
    "\n",
    "This notebook is a sandbox for loading AF data into the pandas dataframe, querying those dataframes, and then visualizing the structural model results."
   ]
  },
  {
   "cell_type": "markdown",
   "id": "norwegian-montana",
   "metadata": {},
   "source": [
    "### PREAMBLE"
   ]
  },
  {
   "cell_type": "code",
   "execution_count": 25,
   "id": "absolute-cabinet",
   "metadata": {},
   "outputs": [],
   "source": [
    "import pickle\n",
    "import glob"
   ]
  },
  {
   "cell_type": "markdown",
   "id": "coastal-stroke",
   "metadata": {},
   "source": [
    "### CHANGE THESE TO POINT TO YOUR OWN DATA FILES"
   ]
  },
  {
   "cell_type": "code",
   "execution_count": 4,
   "id": "novel-warrant",
   "metadata": {},
   "outputs": [],
   "source": [
    "data_dir = '/home/rbdavid/Projects/ornl_DLFA/temp_sadlsa_results/afold_mod/WP_010940344.1/'\n",
    "working_dir = '/home/rbdavid/Projects/ornl_DLFA/temp_sadlsa_results/afold_mod/WP_010940344.1/temp/'"
   ]
  },
  {
   "cell_type": "code",
   "execution_count": 5,
   "id": "registered-transsexual",
   "metadata": {},
   "outputs": [
    {
     "name": "stdout",
     "output_type": "stream",
     "text": [
      "mkdir: cannot create directory ‘/home/rbdavid/Projects/ornl_DLFA/temp_sadlsa_results/afold_mod/WP_010940344.1/temp/’: File exists\r\n"
     ]
    }
   ],
   "source": [
    "mkdir /home/rbdavid/Projects/ornl_DLFA/temp_sadlsa_results/afold_mod/WP_010940344.1/temp/"
   ]
  },
  {
   "cell_type": "markdown",
   "id": "ready-jordan",
   "metadata": {},
   "source": [
    "### SANDBOX"
   ]
  },
  {
   "cell_type": "code",
   "execution_count": 22,
   "id": "blind-mercy",
   "metadata": {},
   "outputs": [
    {
     "name": "stdout",
     "output_type": "stream",
     "text": [
      "<class 'dict'>\n",
      "dict_keys(['distogram', 'experimentally_resolved', 'masked_msa', 'predicted_lddt', 'structure_module', 'plddt']) \n",
      "\n",
      "distogram <class 'dict'>\n",
      "bin_edges <class 'numpy.ndarray'>\n",
      "(63,)\n",
      "logits <class 'numpy.ndarray'>\n",
      "(81, 81, 64)\n",
      "\n",
      "\n",
      "experimentally_resolved <class 'dict'>\n",
      "logits <class 'numpy.ndarray'>\n",
      "(81, 37)\n",
      "\n",
      "\n",
      "masked_msa <class 'dict'>\n",
      "logits <class 'numpy.ndarray'>\n",
      "(508, 81, 23)\n",
      "\n",
      "\n",
      "predicted_lddt <class 'dict'>\n",
      "logits <class 'numpy.ndarray'>\n",
      "(81, 50)\n",
      "\n",
      "\n",
      "structure_module <class 'dict'>\n",
      "final_atom_mask <class 'numpy.ndarray'>\n",
      "(81, 37)\n",
      "final_atom_positions <class 'numpy.ndarray'>\n",
      "(81, 37, 3)\n",
      "\n",
      "\n",
      "plddt <class 'numpy.ndarray'>\n",
      "(81,)\n",
      "\n",
      "\n"
     ]
    }
   ],
   "source": [
    "# exploring the data structure held within the AF pickle files\n",
    "model_result_pkl = data_dir + 'result_model_1.pkl'\n",
    "with open(model_result_pkl,'rb') as infile:\n",
    "    model_results = pickle.load(infile)\n",
    "print(type(model_results))\n",
    "print(model_results.keys(),'\\n')\n",
    "for key in list(model_results.keys()):\n",
    "    print(key,type(model_results[key]))\n",
    "    if str(type(model_results[key])) == \"<class 'dict'>\":\n",
    "        for subkey in list(model_results[key]):\n",
    "            print(subkey,type(model_results[key][subkey]))\n",
    "            if str(type(model_results[key][subkey])) == \"<class 'numpy.ndarray'>\":\n",
    "                print(model_results[key][subkey].shape)\n",
    "    if str(type(model_results[key])) == \"<class 'numpy.ndarray'>\":\n",
    "        print(model_results[key].shape)\n",
    "    print('\\n')"
   ]
  },
  {
   "cell_type": "code",
   "execution_count": 24,
   "id": "several-thumb",
   "metadata": {},
   "outputs": [
    {
     "data": {
      "text/plain": [
       "array([95.9557912 , 98.14932998, 98.62720958, 98.39559234, 98.2736977 ,\n",
       "       97.82334194, 97.19182631, 94.25029452, 92.23780245, 93.76431857,\n",
       "       94.28504889, 94.89599746, 96.86817959, 96.10531504, 97.27730051,\n",
       "       96.9887179 , 97.51199956, 97.65830714, 97.12419902, 95.6603777 ,\n",
       "       96.53226384, 96.71447649, 97.02729604, 98.11941713, 96.97256663,\n",
       "       96.32970903, 96.80878501, 96.54165357, 95.87152877, 94.84217455,\n",
       "       93.35400142, 91.28798952, 90.67581629, 86.4001612 , 96.16992342,\n",
       "       97.66540163, 97.99280383, 98.5801043 , 98.6232093 , 98.47842382,\n",
       "       98.43681898, 97.91729322, 96.65233018, 95.39145525, 94.86021666,\n",
       "       93.90949101, 92.42907953, 94.75591406, 96.99985879, 97.65385227,\n",
       "       98.40580244, 98.24316166, 98.11444872, 98.05891452, 97.87609884,\n",
       "       96.41845674, 95.31815795, 96.87566462, 97.42768898, 98.04514844,\n",
       "       98.39396744, 98.59178508, 98.31109538, 95.62228103, 97.82816557,\n",
       "       98.50572608, 97.98937127, 97.55119119, 97.72953387, 97.68430084,\n",
       "       96.45135012, 95.43738257, 94.11764343, 92.13347219, 90.77098019,\n",
       "       85.67241011, 80.54976124, 69.82475738, 59.52007864, 59.48653264,\n",
       "       45.89630931])"
      ]
     },
     "execution_count": 24,
     "metadata": {},
     "output_type": "execute_result"
    }
   ],
   "source": [
    "# really only interested in visualizing the final plddt values (not the binned \"logit\" plddt results) \n",
    "model_results['plddt']"
   ]
  },
  {
   "cell_type": "code",
   "execution_count": 27,
   "id": "metallic-rebecca",
   "metadata": {},
   "outputs": [],
   "source": [
    "model_result_pkls = glob.glob(data_dir + 'result_model_*.pkl')\n",
    "model_result_pkls.sort()\n",
    "n_models = len(model_result_pkls)\n",
    "columns = [\"model_%d\"%(i+1) for i in range(n_models)]\n",
    "plddt_dict = {}\n",
    "for i, model_pkl in enumerate(model_result_pkls):\n",
    "    with open(model_pkl,'rb') as file_:\n",
    "        model_results = pickle.load(file_)\n",
    "    plddt_dict['model_%d'%(i+1)] = model_results['plddt']"
   ]
  },
  {
   "cell_type": "code",
   "execution_count": 30,
   "id": "coupled-compound",
   "metadata": {},
   "outputs": [],
   "source": [
    "import pandas as pd\n",
    "df = pd. DataFrame(plddt_dict)"
   ]
  },
  {
   "cell_type": "code",
   "execution_count": 31,
   "id": "generic-rings",
   "metadata": {},
   "outputs": [
    {
     "data": {
      "text/html": [
       "<div>\n",
       "<style scoped>\n",
       "    .dataframe tbody tr th:only-of-type {\n",
       "        vertical-align: middle;\n",
       "    }\n",
       "\n",
       "    .dataframe tbody tr th {\n",
       "        vertical-align: top;\n",
       "    }\n",
       "\n",
       "    .dataframe thead th {\n",
       "        text-align: right;\n",
       "    }\n",
       "</style>\n",
       "<table border=\"1\" class=\"dataframe\">\n",
       "  <thead>\n",
       "    <tr style=\"text-align: right;\">\n",
       "      <th></th>\n",
       "      <th>model_1</th>\n",
       "      <th>model_2</th>\n",
       "      <th>model_3</th>\n",
       "      <th>model_4</th>\n",
       "      <th>model_5</th>\n",
       "    </tr>\n",
       "  </thead>\n",
       "  <tbody>\n",
       "    <tr>\n",
       "      <th>0</th>\n",
       "      <td>95.955791</td>\n",
       "      <td>96.138543</td>\n",
       "      <td>97.039665</td>\n",
       "      <td>96.165786</td>\n",
       "      <td>97.246066</td>\n",
       "    </tr>\n",
       "    <tr>\n",
       "      <th>1</th>\n",
       "      <td>98.149330</td>\n",
       "      <td>98.024664</td>\n",
       "      <td>98.478268</td>\n",
       "      <td>98.127158</td>\n",
       "      <td>98.561414</td>\n",
       "    </tr>\n",
       "    <tr>\n",
       "      <th>2</th>\n",
       "      <td>98.627210</td>\n",
       "      <td>98.632123</td>\n",
       "      <td>98.693972</td>\n",
       "      <td>98.576797</td>\n",
       "      <td>98.767269</td>\n",
       "    </tr>\n",
       "    <tr>\n",
       "      <th>3</th>\n",
       "      <td>98.395592</td>\n",
       "      <td>98.404823</td>\n",
       "      <td>98.598844</td>\n",
       "      <td>98.186127</td>\n",
       "      <td>98.662409</td>\n",
       "    </tr>\n",
       "    <tr>\n",
       "      <th>4</th>\n",
       "      <td>98.273698</td>\n",
       "      <td>98.279608</td>\n",
       "      <td>98.436594</td>\n",
       "      <td>98.104180</td>\n",
       "      <td>98.573181</td>\n",
       "    </tr>\n",
       "    <tr>\n",
       "      <th>...</th>\n",
       "      <td>...</td>\n",
       "      <td>...</td>\n",
       "      <td>...</td>\n",
       "      <td>...</td>\n",
       "      <td>...</td>\n",
       "    </tr>\n",
       "    <tr>\n",
       "      <th>76</th>\n",
       "      <td>80.549761</td>\n",
       "      <td>82.235152</td>\n",
       "      <td>81.126946</td>\n",
       "      <td>81.520271</td>\n",
       "      <td>81.221231</td>\n",
       "    </tr>\n",
       "    <tr>\n",
       "      <th>77</th>\n",
       "      <td>69.824757</td>\n",
       "      <td>69.221722</td>\n",
       "      <td>73.215049</td>\n",
       "      <td>72.178397</td>\n",
       "      <td>70.931490</td>\n",
       "    </tr>\n",
       "    <tr>\n",
       "      <th>78</th>\n",
       "      <td>59.520079</td>\n",
       "      <td>63.567112</td>\n",
       "      <td>64.779248</td>\n",
       "      <td>65.941218</td>\n",
       "      <td>63.232778</td>\n",
       "    </tr>\n",
       "    <tr>\n",
       "      <th>79</th>\n",
       "      <td>59.486533</td>\n",
       "      <td>63.308439</td>\n",
       "      <td>62.377211</td>\n",
       "      <td>62.971200</td>\n",
       "      <td>62.169416</td>\n",
       "    </tr>\n",
       "    <tr>\n",
       "      <th>80</th>\n",
       "      <td>45.896309</td>\n",
       "      <td>50.208275</td>\n",
       "      <td>57.349493</td>\n",
       "      <td>55.999102</td>\n",
       "      <td>56.969578</td>\n",
       "    </tr>\n",
       "  </tbody>\n",
       "</table>\n",
       "<p>81 rows × 5 columns</p>\n",
       "</div>"
      ],
      "text/plain": [
       "      model_1    model_2    model_3    model_4    model_5\n",
       "0   95.955791  96.138543  97.039665  96.165786  97.246066\n",
       "1   98.149330  98.024664  98.478268  98.127158  98.561414\n",
       "2   98.627210  98.632123  98.693972  98.576797  98.767269\n",
       "3   98.395592  98.404823  98.598844  98.186127  98.662409\n",
       "4   98.273698  98.279608  98.436594  98.104180  98.573181\n",
       "..        ...        ...        ...        ...        ...\n",
       "76  80.549761  82.235152  81.126946  81.520271  81.221231\n",
       "77  69.824757  69.221722  73.215049  72.178397  70.931490\n",
       "78  59.520079  63.567112  64.779248  65.941218  63.232778\n",
       "79  59.486533  63.308439  62.377211  62.971200  62.169416\n",
       "80  45.896309  50.208275  57.349493  55.999102  56.969578\n",
       "\n",
       "[81 rows x 5 columns]"
      ]
     },
     "execution_count": 31,
     "metadata": {},
     "output_type": "execute_result"
    }
   ],
   "source": [
    "df"
   ]
  },
  {
   "cell_type": "code",
   "execution_count": null,
   "id": "descending-collect",
   "metadata": {},
   "outputs": [],
   "source": []
  }
 ],
 "metadata": {
  "kernelspec": {
   "display_name": "Python 3",
   "language": "python",
   "name": "python3"
  },
  "language_info": {
   "codemirror_mode": {
    "name": "ipython",
    "version": 3
   },
   "file_extension": ".py",
   "mimetype": "text/x-python",
   "name": "python",
   "nbconvert_exporter": "python",
   "pygments_lexer": "ipython3",
   "version": "3.8.2"
  }
 },
 "nbformat": 4,
 "nbformat_minor": 5
}
