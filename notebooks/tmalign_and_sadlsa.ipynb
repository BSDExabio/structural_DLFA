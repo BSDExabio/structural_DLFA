{
 "cells": [
  {
   "cell_type": "markdown",
   "source": [
    "# TMalign and SAdLSA data\n",
    "\n",
    "The intent here is to do a join between the two datasets and then compare\n",
    "alignment scores for common proteins.  This also serves as an example on how to\n",
    "use the `sqlite3` database to load the data."
   ],
   "metadata": {
    "collapsed": false,
    "pycharm": {
     "name": "#%% md\n"
    }
   }
  },
  {
   "cell_type": "code",
   "execution_count": 2,
   "outputs": [],
   "source": [
    "import pandas as pd\n",
    "from pathlib import Path\n",
    "\n",
    "from database.database import Database\n",
    "import seaborn as sea"
   ],
   "metadata": {
    "collapsed": false,
    "pycharm": {
     "name": "#%%\n"
    }
   }
  },
  {
   "cell_type": "code",
   "execution_count": 4,
   "outputs": [],
   "source": [
    "db = Database('/Users/may/Projects/alphafold/structural_DLFA/db/dlfa.db')"
   ],
   "metadata": {
    "collapsed": false,
    "pycharm": {
     "name": "#%%\n"
    }
   }
  },
  {
   "cell_type": "code",
   "execution_count": 5,
   "outputs": [],
   "source": [
    "tmalign_data = db.query('select protein, tname, mscore from tmalign_scores')"
   ],
   "metadata": {
    "collapsed": false,
    "pycharm": {
     "name": "#%%\n"
    }
   }
  },
  {
   "cell_type": "code",
   "execution_count": 7,
   "outputs": [],
   "source": [
    "tmalign_df = pd.DataFrame(tmalign_data)"
   ],
   "metadata": {
    "collapsed": false,
    "pycharm": {
     "name": "#%%\n"
    }
   }
  },
  {
   "cell_type": "code",
   "execution_count": 10,
   "outputs": [],
   "source": [
    "tmalign_df.columns = ['protein','tname','mscore']"
   ],
   "metadata": {
    "collapsed": false,
    "pycharm": {
     "name": "#%%\n"
    }
   }
  },
  {
   "cell_type": "code",
   "execution_count": 11,
   "outputs": [
    {
     "data": {
      "text/plain": "          protein   tname   mscore\n0  WP_010937312.1  1FNN_B  0.54014\n1  WP_010937312.1  5M7O_A  0.52752\n2  WP_010937312.1  6N8T_F  0.52286\n3  WP_010937312.1  6AZY_A  0.51699\n4  WP_010937312.1  3K1J_B  0.51685",
      "text/html": "<div>\n<style scoped>\n    .dataframe tbody tr th:only-of-type {\n        vertical-align: middle;\n    }\n\n    .dataframe tbody tr th {\n        vertical-align: top;\n    }\n\n    .dataframe thead th {\n        text-align: right;\n    }\n</style>\n<table border=\"1\" class=\"dataframe\">\n  <thead>\n    <tr style=\"text-align: right;\">\n      <th></th>\n      <th>protein</th>\n      <th>tname</th>\n      <th>mscore</th>\n    </tr>\n  </thead>\n  <tbody>\n    <tr>\n      <th>0</th>\n      <td>WP_010937312.1</td>\n      <td>1FNN_B</td>\n      <td>0.54014</td>\n    </tr>\n    <tr>\n      <th>1</th>\n      <td>WP_010937312.1</td>\n      <td>5M7O_A</td>\n      <td>0.52752</td>\n    </tr>\n    <tr>\n      <th>2</th>\n      <td>WP_010937312.1</td>\n      <td>6N8T_F</td>\n      <td>0.52286</td>\n    </tr>\n    <tr>\n      <th>3</th>\n      <td>WP_010937312.1</td>\n      <td>6AZY_A</td>\n      <td>0.51699</td>\n    </tr>\n    <tr>\n      <th>4</th>\n      <td>WP_010937312.1</td>\n      <td>3K1J_B</td>\n      <td>0.51685</td>\n    </tr>\n  </tbody>\n</table>\n</div>"
     },
     "execution_count": 11,
     "metadata": {},
     "output_type": "execute_result"
    }
   ],
   "source": [
    "tmalign_df.head()"
   ],
   "metadata": {
    "collapsed": false,
    "pycharm": {
     "name": "#%%\n"
    }
   }
  },
  {
   "cell_type": "code",
   "execution_count": 12,
   "outputs": [],
   "source": [
    "del tmalign_data"
   ],
   "metadata": {
    "collapsed": false,
    "pycharm": {
     "name": "#%%\n"
    }
   }
  },
  {
   "cell_type": "code",
   "execution_count": 13,
   "outputs": [],
   "source": [
    "sadlsa_data = db.query('select protein, Prot_ID, tms1 from sadlsa_alignments')"
   ],
   "metadata": {
    "collapsed": false,
    "pycharm": {
     "name": "#%%\n"
    }
   }
  },
  {
   "cell_type": "code",
   "execution_count": 14,
   "outputs": [],
   "source": [
    "sadlsa_df = pd.DataFrame(sadlsa_data)\n"
   ],
   "metadata": {
    "collapsed": false,
    "pycharm": {
     "name": "#%%\n"
    }
   }
  },
  {
   "cell_type": "code",
   "execution_count": 15,
   "outputs": [
    {
     "data": {
      "text/plain": "                0       1       2\n0  WP_010937346.1  1ZHC_A  0.5454\n1  WP_010937346.1  1ZHC_A  0.5454\n2  WP_010937346.1  1ZHC_A  0.5454\n3  WP_010937346.1  1ZHC_A  0.5454\n4  WP_010937346.1  1ZHC_A  0.5454",
      "text/html": "<div>\n<style scoped>\n    .dataframe tbody tr th:only-of-type {\n        vertical-align: middle;\n    }\n\n    .dataframe tbody tr th {\n        vertical-align: top;\n    }\n\n    .dataframe thead th {\n        text-align: right;\n    }\n</style>\n<table border=\"1\" class=\"dataframe\">\n  <thead>\n    <tr style=\"text-align: right;\">\n      <th></th>\n      <th>0</th>\n      <th>1</th>\n      <th>2</th>\n    </tr>\n  </thead>\n  <tbody>\n    <tr>\n      <th>0</th>\n      <td>WP_010937346.1</td>\n      <td>1ZHC_A</td>\n      <td>0.5454</td>\n    </tr>\n    <tr>\n      <th>1</th>\n      <td>WP_010937346.1</td>\n      <td>1ZHC_A</td>\n      <td>0.5454</td>\n    </tr>\n    <tr>\n      <th>2</th>\n      <td>WP_010937346.1</td>\n      <td>1ZHC_A</td>\n      <td>0.5454</td>\n    </tr>\n    <tr>\n      <th>3</th>\n      <td>WP_010937346.1</td>\n      <td>1ZHC_A</td>\n      <td>0.5454</td>\n    </tr>\n    <tr>\n      <th>4</th>\n      <td>WP_010937346.1</td>\n      <td>1ZHC_A</td>\n      <td>0.5454</td>\n    </tr>\n  </tbody>\n</table>\n</div>"
     },
     "execution_count": 15,
     "metadata": {},
     "output_type": "execute_result"
    }
   ],
   "source": [
    "sadlsa_df.head()"
   ],
   "metadata": {
    "collapsed": false,
    "pycharm": {
     "name": "#%%\n"
    }
   }
  },
  {
   "cell_type": "code",
   "execution_count": 16,
   "outputs": [],
   "source": [
    "sadlsa_df.columns = ['protein','Prot_ID','tms1']"
   ],
   "metadata": {
    "collapsed": false,
    "pycharm": {
     "name": "#%%\n"
    }
   }
  },
  {
   "cell_type": "code",
   "execution_count": 17,
   "outputs": [],
   "source": [
    "del sadlsa_data"
   ],
   "metadata": {
    "collapsed": false,
    "pycharm": {
     "name": "#%%\n"
    }
   }
  },
  {
   "cell_type": "code",
   "execution_count": 18,
   "outputs": [
    {
     "data": {
      "text/plain": "                protein Prot_ID    tms1\n1001322  WP_164928147.1  5U96_A  0.3124\n1001323  WP_164928147.1  5U96_A  0.3124\n1001324  WP_164928147.1  5U96_A  0.3124\n1001325  WP_164928147.1  5U96_A  0.3124\n1001326  WP_164928147.1  5U96_A  0.3124",
      "text/html": "<div>\n<style scoped>\n    .dataframe tbody tr th:only-of-type {\n        vertical-align: middle;\n    }\n\n    .dataframe tbody tr th {\n        vertical-align: top;\n    }\n\n    .dataframe thead th {\n        text-align: right;\n    }\n</style>\n<table border=\"1\" class=\"dataframe\">\n  <thead>\n    <tr style=\"text-align: right;\">\n      <th></th>\n      <th>protein</th>\n      <th>Prot_ID</th>\n      <th>tms1</th>\n    </tr>\n  </thead>\n  <tbody>\n    <tr>\n      <th>1001322</th>\n      <td>WP_164928147.1</td>\n      <td>5U96_A</td>\n      <td>0.3124</td>\n    </tr>\n    <tr>\n      <th>1001323</th>\n      <td>WP_164928147.1</td>\n      <td>5U96_A</td>\n      <td>0.3124</td>\n    </tr>\n    <tr>\n      <th>1001324</th>\n      <td>WP_164928147.1</td>\n      <td>5U96_A</td>\n      <td>0.3124</td>\n    </tr>\n    <tr>\n      <th>1001325</th>\n      <td>WP_164928147.1</td>\n      <td>5U96_A</td>\n      <td>0.3124</td>\n    </tr>\n    <tr>\n      <th>1001326</th>\n      <td>WP_164928147.1</td>\n      <td>5U96_A</td>\n      <td>0.3124</td>\n    </tr>\n  </tbody>\n</table>\n</div>"
     },
     "execution_count": 18,
     "metadata": {},
     "output_type": "execute_result"
    }
   ],
   "source": [
    "sadlsa_df.tail()"
   ],
   "metadata": {
    "collapsed": false,
    "pycharm": {
     "name": "#%%\n"
    }
   }
  },
  {
   "cell_type": "code",
   "execution_count": 19,
   "outputs": [
    {
     "data": {
      "text/plain": "Index(['protein', 'Prot_ID', 'tms1'], dtype='object')"
     },
     "execution_count": 19,
     "metadata": {},
     "output_type": "execute_result"
    }
   ],
   "source": [
    "sadlsa_df.columns"
   ],
   "metadata": {
    "collapsed": false,
    "pycharm": {
     "name": "#%%\n"
    }
   }
  },
  {
   "cell_type": "code",
   "execution_count": 20,
   "outputs": [
    {
     "data": {
      "text/plain": "Index(['protein', 'tname', 'mscore'], dtype='object')"
     },
     "execution_count": 20,
     "metadata": {},
     "output_type": "execute_result"
    }
   ],
   "source": [
    "tmalign_df.columns"
   ],
   "metadata": {
    "collapsed": false,
    "pycharm": {
     "name": "#%%\n"
    }
   }
  },
  {
   "cell_type": "code",
   "execution_count": 23,
   "outputs": [],
   "source": [
    "# rename the Prot_ID to tname to have a common name for merge\n",
    "sadlsa_df.columns = ['protein','tname', 'tms1']"
   ],
   "metadata": {
    "collapsed": false,
    "pycharm": {
     "name": "#%%\n"
    }
   }
  },
  {
   "cell_type": "code",
   "execution_count": 25,
   "outputs": [],
   "source": [
    "merged_df = pd.merge(sadlsa_df, tmalign_df)"
   ],
   "metadata": {
    "collapsed": false,
    "pycharm": {
     "name": "#%%\n"
    }
   }
  },
  {
   "cell_type": "code",
   "execution_count": 26,
   "outputs": [
    {
     "data": {
      "text/plain": "304636"
     },
     "execution_count": 26,
     "metadata": {},
     "output_type": "execute_result"
    }
   ],
   "source": [
    "len(merged_df)"
   ],
   "metadata": {
    "collapsed": false,
    "pycharm": {
     "name": "#%%\n"
    }
   }
  },
  {
   "cell_type": "code",
   "execution_count": 27,
   "outputs": [
    {
     "data": {
      "text/plain": "          protein   tname    tms1  mscore\n0  WP_010937347.1  4CLV_A  0.7257  0.4663\n1  WP_010937347.1  4CLV_A  0.7257  0.4663\n2  WP_010937347.1  4CLV_A  0.7257  0.4663\n3  WP_010937347.1  4CLV_A  0.7257  0.4663\n4  WP_010937347.1  4CLV_A  0.7257  0.4663",
      "text/html": "<div>\n<style scoped>\n    .dataframe tbody tr th:only-of-type {\n        vertical-align: middle;\n    }\n\n    .dataframe tbody tr th {\n        vertical-align: top;\n    }\n\n    .dataframe thead th {\n        text-align: right;\n    }\n</style>\n<table border=\"1\" class=\"dataframe\">\n  <thead>\n    <tr style=\"text-align: right;\">\n      <th></th>\n      <th>protein</th>\n      <th>tname</th>\n      <th>tms1</th>\n      <th>mscore</th>\n    </tr>\n  </thead>\n  <tbody>\n    <tr>\n      <th>0</th>\n      <td>WP_010937347.1</td>\n      <td>4CLV_A</td>\n      <td>0.7257</td>\n      <td>0.4663</td>\n    </tr>\n    <tr>\n      <th>1</th>\n      <td>WP_010937347.1</td>\n      <td>4CLV_A</td>\n      <td>0.7257</td>\n      <td>0.4663</td>\n    </tr>\n    <tr>\n      <th>2</th>\n      <td>WP_010937347.1</td>\n      <td>4CLV_A</td>\n      <td>0.7257</td>\n      <td>0.4663</td>\n    </tr>\n    <tr>\n      <th>3</th>\n      <td>WP_010937347.1</td>\n      <td>4CLV_A</td>\n      <td>0.7257</td>\n      <td>0.4663</td>\n    </tr>\n    <tr>\n      <th>4</th>\n      <td>WP_010937347.1</td>\n      <td>4CLV_A</td>\n      <td>0.7257</td>\n      <td>0.4663</td>\n    </tr>\n  </tbody>\n</table>\n</div>"
     },
     "execution_count": 27,
     "metadata": {},
     "output_type": "execute_result"
    }
   ],
   "source": [
    "merged_df.head()\n"
   ],
   "metadata": {
    "collapsed": false,
    "pycharm": {
     "name": "#%%\n"
    }
   }
  },
  {
   "cell_type": "code",
   "execution_count": 28,
   "outputs": [
    {
     "data": {
      "text/plain": "               protein   tname    tms1  mscore\n304631  WP_164928140.1  1FXK_B  0.5758  0.5432\n304632  WP_164928140.1  1FXK_B  0.5758  0.5432\n304633  WP_164928140.1  1FXK_B  0.5758  0.5432\n304634  WP_164928140.1  1FXK_B  0.5758  0.5432\n304635  WP_164928140.1  1FXK_B  0.5758  0.5432",
      "text/html": "<div>\n<style scoped>\n    .dataframe tbody tr th:only-of-type {\n        vertical-align: middle;\n    }\n\n    .dataframe tbody tr th {\n        vertical-align: top;\n    }\n\n    .dataframe thead th {\n        text-align: right;\n    }\n</style>\n<table border=\"1\" class=\"dataframe\">\n  <thead>\n    <tr style=\"text-align: right;\">\n      <th></th>\n      <th>protein</th>\n      <th>tname</th>\n      <th>tms1</th>\n      <th>mscore</th>\n    </tr>\n  </thead>\n  <tbody>\n    <tr>\n      <th>304631</th>\n      <td>WP_164928140.1</td>\n      <td>1FXK_B</td>\n      <td>0.5758</td>\n      <td>0.5432</td>\n    </tr>\n    <tr>\n      <th>304632</th>\n      <td>WP_164928140.1</td>\n      <td>1FXK_B</td>\n      <td>0.5758</td>\n      <td>0.5432</td>\n    </tr>\n    <tr>\n      <th>304633</th>\n      <td>WP_164928140.1</td>\n      <td>1FXK_B</td>\n      <td>0.5758</td>\n      <td>0.5432</td>\n    </tr>\n    <tr>\n      <th>304634</th>\n      <td>WP_164928140.1</td>\n      <td>1FXK_B</td>\n      <td>0.5758</td>\n      <td>0.5432</td>\n    </tr>\n    <tr>\n      <th>304635</th>\n      <td>WP_164928140.1</td>\n      <td>1FXK_B</td>\n      <td>0.5758</td>\n      <td>0.5432</td>\n    </tr>\n  </tbody>\n</table>\n</div>"
     },
     "execution_count": 28,
     "metadata": {},
     "output_type": "execute_result"
    }
   ],
   "source": [
    "merged_df.tail()\n"
   ],
   "metadata": {
    "collapsed": false,
    "pycharm": {
     "name": "#%%\n"
    }
   }
  },
  {
   "cell_type": "code",
   "execution_count": 29,
   "outputs": [],
   "source": [
    "merged_df = merged_df.drop_duplicates()\n"
   ],
   "metadata": {
    "collapsed": false,
    "pycharm": {
     "name": "#%%\n"
    }
   }
  },
  {
   "cell_type": "code",
   "execution_count": 30,
   "outputs": [
    {
     "data": {
      "text/plain": "1350"
     },
     "execution_count": 30,
     "metadata": {},
     "output_type": "execute_result"
    }
   ],
   "source": [
    "len(merged_df)\n"
   ],
   "metadata": {
    "collapsed": false,
    "pycharm": {
     "name": "#%%\n"
    }
   }
  },
  {
   "cell_type": "code",
   "execution_count": 31,
   "outputs": [
    {
     "data": {
      "text/plain": "               protein   tname    tms1   mscore\n0       WP_010937347.1  4CLV_A  0.7257  0.46630\n142     WP_010937347.1  4WWB_A  0.6121  0.52150\n260     WP_010937351.1  4XQ7_A  0.7334  0.69852\n461     WP_010937351.1  4RWN_A  0.7300  0.68975\n663     WP_010937351.1  4S3N_A  0.7297  0.73568\n...                ...     ...     ...      ...\n303954  WP_164928113.1  4NOO_A  0.5937  0.63728\n304118  WP_164928113.1  1XJT_A  0.5815  0.55171\n304266  WP_164928113.1  1XJU_A  0.5784  0.46560\n304410  WP_164928124.1  1FLL_B  0.5350  0.44859\n304545  WP_164928140.1  1FXK_B  0.5758  0.54320\n\n[1350 rows x 4 columns]",
      "text/html": "<div>\n<style scoped>\n    .dataframe tbody tr th:only-of-type {\n        vertical-align: middle;\n    }\n\n    .dataframe tbody tr th {\n        vertical-align: top;\n    }\n\n    .dataframe thead th {\n        text-align: right;\n    }\n</style>\n<table border=\"1\" class=\"dataframe\">\n  <thead>\n    <tr style=\"text-align: right;\">\n      <th></th>\n      <th>protein</th>\n      <th>tname</th>\n      <th>tms1</th>\n      <th>mscore</th>\n    </tr>\n  </thead>\n  <tbody>\n    <tr>\n      <th>0</th>\n      <td>WP_010937347.1</td>\n      <td>4CLV_A</td>\n      <td>0.7257</td>\n      <td>0.46630</td>\n    </tr>\n    <tr>\n      <th>142</th>\n      <td>WP_010937347.1</td>\n      <td>4WWB_A</td>\n      <td>0.6121</td>\n      <td>0.52150</td>\n    </tr>\n    <tr>\n      <th>260</th>\n      <td>WP_010937351.1</td>\n      <td>4XQ7_A</td>\n      <td>0.7334</td>\n      <td>0.69852</td>\n    </tr>\n    <tr>\n      <th>461</th>\n      <td>WP_010937351.1</td>\n      <td>4RWN_A</td>\n      <td>0.7300</td>\n      <td>0.68975</td>\n    </tr>\n    <tr>\n      <th>663</th>\n      <td>WP_010937351.1</td>\n      <td>4S3N_A</td>\n      <td>0.7297</td>\n      <td>0.73568</td>\n    </tr>\n    <tr>\n      <th>...</th>\n      <td>...</td>\n      <td>...</td>\n      <td>...</td>\n      <td>...</td>\n    </tr>\n    <tr>\n      <th>303954</th>\n      <td>WP_164928113.1</td>\n      <td>4NOO_A</td>\n      <td>0.5937</td>\n      <td>0.63728</td>\n    </tr>\n    <tr>\n      <th>304118</th>\n      <td>WP_164928113.1</td>\n      <td>1XJT_A</td>\n      <td>0.5815</td>\n      <td>0.55171</td>\n    </tr>\n    <tr>\n      <th>304266</th>\n      <td>WP_164928113.1</td>\n      <td>1XJU_A</td>\n      <td>0.5784</td>\n      <td>0.46560</td>\n    </tr>\n    <tr>\n      <th>304410</th>\n      <td>WP_164928124.1</td>\n      <td>1FLL_B</td>\n      <td>0.5350</td>\n      <td>0.44859</td>\n    </tr>\n    <tr>\n      <th>304545</th>\n      <td>WP_164928140.1</td>\n      <td>1FXK_B</td>\n      <td>0.5758</td>\n      <td>0.54320</td>\n    </tr>\n  </tbody>\n</table>\n<p>1350 rows × 4 columns</p>\n</div>"
     },
     "execution_count": 31,
     "metadata": {},
     "output_type": "execute_result"
    }
   ],
   "source": [
    "merged_df\n"
   ],
   "metadata": {
    "collapsed": false,
    "pycharm": {
     "name": "#%%\n"
    }
   }
  },
  {
   "cell_type": "code",
   "execution_count": null,
   "outputs": [],
   "source": [],
   "metadata": {
    "collapsed": false,
    "pycharm": {
     "name": "#%%\n"
    }
   }
  }
 ],
 "metadata": {
  "kernelspec": {
   "display_name": "Python 3",
   "language": "python",
   "name": "python3"
  },
  "language_info": {
   "codemirror_mode": {
    "name": "ipython",
    "version": 2
   },
   "file_extension": ".py",
   "mimetype": "text/x-python",
   "name": "python",
   "nbconvert_exporter": "python",
   "pygments_lexer": "ipython2",
   "version": "2.7.6"
  }
 },
 "nbformat": 4,
 "nbformat_minor": 0
}