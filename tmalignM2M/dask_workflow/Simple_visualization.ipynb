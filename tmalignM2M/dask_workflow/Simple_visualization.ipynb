{
 "cells": [
  {
   "cell_type": "code",
   "execution_count": 38,
   "id": "fc8d1cd5-ee84-4e85-853e-fbf9cf776a80",
   "metadata": {},
   "outputs": [
    {
     "data": {
      "text/plain": [
       "'/gpfs/alpine/bif135/proj-shared/rbd_work/dask_testing/tmalign_andes_workflow/testing_runs/test8'"
      ]
     },
     "execution_count": 38,
     "metadata": {},
     "output_type": "execute_result"
    }
   ],
   "source": [
    "pwd"
   ]
  },
  {
   "cell_type": "code",
   "execution_count": 39,
   "id": "03b89486-7805-41a5-a37b-6834c00a76c5",
   "metadata": {},
   "outputs": [],
   "source": [
    "import matplotlib.pyplot as plt\n",
    "import matplotlib as mpl\n",
    "from matplotlib.collections import PatchCollection\n",
    "from matplotlib.patches import Rectangle\n",
    "from matplotlib import cm\n",
    "import itertools\n",
    "import numpy as np\n",
    "import pandas\n",
    "from datetime import datetime\n",
    "import copy\n",
    "from pathlib import Path"
   ]
  },
  {
   "cell_type": "code",
   "execution_count": 40,
   "id": "2f86bf05-04cf-44fe-a483-4fa7c89086c9",
   "metadata": {},
   "outputs": [],
   "source": [
    "temp_dict = {'batch_start': 0,\n",
    "             'batch_end': 0, \n",
    "             'client_start': 0,\n",
    "             'client_end': 0, \n",
    "             'total_time': 0., \n",
    "             'client_start_overhead': [], \n",
    "             'worker_between_overhead': [], \n",
    "             'worker_idle_times': [],\n",
    "             'stop_overhead': 0}"
   ]
  },
  {
   "cell_type": "code",
   "execution_count": 41,
   "id": "de75baa1-a926-4716-a881-7527e9ef0020",
   "metadata": {},
   "outputs": [],
   "source": [
    "node_dict = {}"
   ]
  },
  {
   "cell_type": "code",
   "execution_count": 42,
   "id": "5b42d940-c469-4215-865d-d5c06b655c69",
   "metadata": {},
   "outputs": [
    {
     "name": "stdout",
     "output_type": "stream",
     "text": [
      "1662651405.0 1662651425.0 20.0\n",
      "0 20.0 3.2882888317108154 20.496469974517822\n"
     ]
    }
   ],
   "source": [
    "subdir = '.'\n",
    "node_dict[subdir] = copy.deepcopy(temp_dict)\n",
    "\n",
    "start_time   = 'Thu Sep 8 11:36:45 EDT 2022'\n",
    "end_time     = 'Thu Sep 8 11:37:05 EDT 2022'\n",
    "\n",
    "st = datetime.strptime(start_time, \"%a %b %d %H:%M:%S %Z %Y\")\n",
    "et = datetime.strptime(end_time,   \"%a %b %d %H:%M:%S %Z %Y\")\n",
    "total_time = (et - st).total_seconds()\n",
    "print(st.timestamp(),et.timestamp(),total_time)\n",
    "\n",
    "node_dict[subdir]['batch_start']  = 0\n",
    "node_dict[subdir]['batch_end']    = et.timestamp() - st.timestamp()\n",
    "node_dict[subdir]['client_start'] = 1662651408.2882888 - st.timestamp()\n",
    "node_dict[subdir]['client_end']   = 1662651425.49647 - st.timestamp()\n",
    "\n",
    "print(node_dict[subdir]['batch_start'],node_dict[subdir]['batch_end'],node_dict[subdir]['client_start'],node_dict[subdir]['client_end'])"
   ]
  },
  {
   "cell_type": "code",
   "execution_count": 43,
   "id": "45d0f4a7-4d8b-4469-af60-c1bb080a7900",
   "metadata": {},
   "outputs": [
    {
     "name": "stdout",
     "output_type": "stream",
     "text": [
      "                  hostname                                    worker_id  \\\n",
      "9   andes683.olcf.ornl.gov  Worker-0f28497f-1a74-4c23-b59b-6f083f3a0778   \n",
      "8   andes683.olcf.ornl.gov  Worker-3d7d82c0-471f-4f3c-92f8-41b1ca446683   \n",
      "5   andes683.olcf.ornl.gov  Worker-cb7ee8fc-5205-4bee-add9-958bdaf032e3   \n",
      "6   andes683.olcf.ornl.gov  Worker-80d29570-06eb-4dbf-be38-629c333c2c54   \n",
      "7   andes683.olcf.ornl.gov  Worker-ff9243ac-1243-45b2-af7d-3ccfe1dd7059   \n",
      "13  andes683.olcf.ornl.gov  Worker-037a3002-a905-45a2-9755-6bb8691dc953   \n",
      "3   andes683.olcf.ornl.gov  Worker-3a93066a-4400-4cc1-a55e-35f4f4d7eed8   \n",
      "1   andes683.olcf.ornl.gov  Worker-6ac253ff-ee85-4d73-b956-82601c99fa41   \n",
      "2   andes683.olcf.ornl.gov  Worker-f8ec6fb9-0984-4e0c-b293-cab6d51d02d4   \n",
      "0   andes683.olcf.ornl.gov  Worker-d8d7188a-0cb6-48c0-a949-5f86567c8b80   \n",
      "4   andes683.olcf.ornl.gov  Worker-24cd8da5-a139-439b-8ecd-a27f3f72e118   \n",
      "15  andes683.olcf.ornl.gov  Worker-d8d7188a-0cb6-48c0-a949-5f86567c8b80   \n",
      "14  andes683.olcf.ornl.gov  Worker-6ac253ff-ee85-4d73-b956-82601c99fa41   \n",
      "12  andes683.olcf.ornl.gov  Worker-f8ec6fb9-0984-4e0c-b293-cab6d51d02d4   \n",
      "11  andes683.olcf.ornl.gov  Worker-3a93066a-4400-4cc1-a55e-35f4f4d7eed8   \n",
      "10  andes683.olcf.ornl.gov  Worker-24cd8da5-a139-439b-8ecd-a27f3f72e118   \n",
      "\n",
      "    start_time  stop_time  return_code  \\\n",
      "9     5.190144  17.428453            0   \n",
      "8     5.190146  17.003525            0   \n",
      "5     5.190214  14.984281            0   \n",
      "6     5.190219  15.037142            0   \n",
      "7     5.190279  16.366446            0   \n",
      "13    5.190363  20.164482            0   \n",
      "3     5.190397  12.729653            0   \n",
      "1     5.190405  12.488545            0   \n",
      "2     5.190423  12.707670            0   \n",
      "0     5.190637  12.058784            0   \n",
      "4     5.190640  13.461998            0   \n",
      "15   12.059968  20.493471            0   \n",
      "14   12.629343  20.182404            0   \n",
      "12   12.727154  20.158326            0   \n",
      "11   12.923337  19.437233            0   \n",
      "10   13.627003  18.294956            0   \n",
      "\n",
      "                                            query_pdb  \n",
      "9   /gpfs/alpine/bif135/world-shared/species/smage...  \n",
      "8   /gpfs/alpine/bif135/world-shared/species/smage...  \n",
      "5   /gpfs/alpine/bif135/world-shared/species/smage...  \n",
      "6   /gpfs/alpine/bif135/world-shared/species/smage...  \n",
      "7   /gpfs/alpine/bif135/world-shared/species/smage...  \n",
      "13  /gpfs/alpine/bif135/world-shared/species/smage...  \n",
      "3   /gpfs/alpine/bif135/world-shared/species/smage...  \n",
      "1   /gpfs/alpine/bif135/world-shared/species/smage...  \n",
      "2   /gpfs/alpine/bif135/world-shared/species/smage...  \n",
      "0   /gpfs/alpine/bif135/world-shared/species/smage...  \n",
      "4   /gpfs/alpine/bif135/world-shared/species/smage...  \n",
      "15  /gpfs/alpine/bif135/world-shared/species/smage...  \n",
      "14  /gpfs/alpine/bif135/world-shared/species/smage...  \n",
      "12  /gpfs/alpine/bif135/world-shared/species/smage...  \n",
      "11  /gpfs/alpine/bif135/world-shared/species/smage...  \n",
      "10  /gpfs/alpine/bif135/world-shared/species/smage...  \n"
     ]
    }
   ],
   "source": [
    "df = pandas.read_csv(f'{subdir}/timings.csv', sep=',')\n",
    "df['start_time'] -= st.timestamp()\n",
    "df['stop_time']  -= st.timestamp()\n",
    "df = df.sort_values(by = ['start_time'])\n",
    "print(df)"
   ]
  },
  {
   "cell_type": "code",
   "execution_count": 44,
   "id": "32814610-b4c5-4f50-9a4c-de69a098b139",
   "metadata": {},
   "outputs": [
    {
     "name": "stdout",
     "output_type": "stream",
     "text": [
      "[20.0, 20.496469974517822, 20.493471145629883]\n"
     ]
    }
   ],
   "source": [
    "workers = list(set(df['worker_id']))\n",
    "\n",
    "worker_client_startup_overheads = []\n",
    "worker_between_overheads = []\n",
    "worker_idle_times = []\n",
    "for worker in workers:\n",
    "    worker_tasks = df[df['worker_id'] == worker]\n",
    "    a = np.min(worker_tasks['start_time']) - node_dict[subdir]['client_start']\n",
    "    b = node_dict[subdir]['client_end'] - np.max(worker_tasks['stop_time'])\n",
    "    worker_client_startup_overheads.append(a)\n",
    "    worker_idle_times.append(b)\n",
    "    between_time = 0\n",
    "    for i in range(len(worker_tasks)-1):\n",
    "        between_time += worker_tasks.iloc[i+1]['start_time'] - worker_tasks.iloc[i]['stop_time']\n",
    "    worker_between_overheads.append(between_time)\n",
    "        \n",
    "node_dict[subdir]['client_start_overhead'].append(worker_client_startup_overheads)\n",
    "node_dict[subdir]['worker_idle_times'].append(worker_idle_times)\n",
    "node_dict[subdir]['worker_between_overhead'].append(worker_between_overheads)\n",
    "\n",
    "print([node_dict[subdir]['batch_end'],node_dict[subdir]['client_end'],np.max(df['stop_time'])])\n",
    "total_time = np.max([node_dict[subdir]['batch_end'],node_dict[subdir]['client_end'],np.max(df['stop_time'])])\n",
    "node_dict[subdir]['total_time'] = total_time\n",
    "node_dict[subdir]['stop_overhead'] = total_time - np.max(df['stop_time'])\n",
    "#preprocessing_dt = df['stop_time'] - df['start_time'] if df['task'] == 'preprocessing'"
   ]
  },
  {
   "cell_type": "code",
   "execution_count": 45,
   "id": "33e499a7-c9b8-42aa-8881-34a896602704",
   "metadata": {},
   "outputs": [
    {
     "name": "stdout",
     "output_type": "stream",
     "text": [
      "11\n"
     ]
    }
   ],
   "source": [
    "worker_dict = {}\n",
    "count = 0\n",
    "for worker in df.iloc:\n",
    "    if worker['worker_id'] not in worker_dict.keys():\n",
    "        worker_dict[worker['worker_id']] = count\n",
    "        count += 1\n",
    "print(count)"
   ]
  },
  {
   "cell_type": "code",
   "execution_count": 46,
   "id": "f03e6886-289c-41b8-96df-46019f7bfd10",
   "metadata": {},
   "outputs": [
    {
     "data": {
      "image/png": "[encoded data removed]",
      "text/plain": [
       "<Figure size 576x720 with 1 Axes>"
      ]
     },
     "metadata": {
      "needs_background": "light"
     },
     "output_type": "display_data"
    }
   ],
   "source": [
    "colormap = cm.Dark2.colors\n",
    "figure = plt.figure(figsize=(8,10))\n",
    "ax = plt.gca()\n",
    "ax.plot([0,0],[0,count+1],'k--',zorder=3)\n",
    "ax.plot([node_dict[subdir]['client_start'],node_dict[subdir]['client_start']],[0,count+1],'-',c='xkcd:purple',zorder=3)\n",
    "ax.plot([total_time,total_time],[0,count+1],'-',c='xkcd:purple',zorder=3)\n",
    "\n",
    "for task in df.iloc:\n",
    "    worker_id = worker_dict[task['worker_id']]\n",
    "    if task['return_code'] == 0:\n",
    "        facecolor = 'xkcd:green'\n",
    "    else:\n",
    "        facecolor='xkcd:red'\n",
    "    task_rect = Rectangle((task['start_time'], worker_id + 0.6), # xy\n",
    "                           task['stop_time']-task['start_time'], # width\n",
    "                           0.8, # height\n",
    "                           facecolor = facecolor,\n",
    "                           alpha = 0.75, edgecolor = 'xkcd:black', zorder = 3)\n",
    "    ax.add_patch(task_rect)\n",
    "\n",
    "ax.set_ylim((0.,count+1))\n",
    "ax.set_ylabel('Worker Index',size=14)\n",
    "ax.set_xlabel('Time (sec)',size=14)\n",
    "plt.grid(b=True,which='major',axis='both',color='#808080',linestyle='--',alpha=0.75,zorder=1)\n",
    "plt.savefig(f'{subdir}/worker_timeline.png',dpi=600,transparent=True)\n",
    "plt.show()\n",
    "plt.close()"
   ]
  },
  {
   "cell_type": "code",
   "execution_count": 47,
   "id": "5f417ab7-2d20-4499-9a06-ab8cdc51edb2",
   "metadata": {},
   "outputs": [
    {
     "name": "stdout",
     "output_type": "stream",
     "text": [
      "dict_keys(['batch_start', 'batch_end', 'client_start', 'client_end', 'total_time', 'client_start_overhead', 'worker_between_overhead', 'worker_idle_times', 'stop_overhead'])\n",
      "0\n",
      "20.0\n",
      "3.2882888317108154\n",
      "20.496469974517822\n",
      "20.496469974517822\n",
      "1.9020629579370671 0.00016556999065715875 11\n",
      "0.04728687893260609 0.07406935959447739 11\n",
      "2.355495496229692 2.002700045251592 11\n",
      "0.002998828887939453\n"
     ]
    }
   ],
   "source": [
    "print(node_dict[subdir].keys())\n",
    "print(node_dict[subdir]['batch_start'])\n",
    "print(node_dict[subdir]['batch_end'])\n",
    "print(node_dict[subdir]['client_start'])\n",
    "print(node_dict[subdir]['client_end'])\n",
    "print(node_dict[subdir]['total_time'])\n",
    "for i in node_dict[subdir]['client_start_overhead']:\n",
    "    print(np.mean(i),np.std(i),len(i))\n",
    "for i in node_dict[subdir]['worker_between_overhead']:\n",
    "    print(np.mean(i),np.std(i),len(i))\n",
    "for i in node_dict[subdir]['worker_idle_times']:\n",
    "    print(np.mean(i),np.std(i),len(i))\n",
    "print(node_dict[subdir]['stop_overhead'])"
   ]
  },
  {
   "cell_type": "code",
   "execution_count": null,
   "id": "2a3e51d9-dd53-427f-b6e2-0323d0fd1916",
   "metadata": {},
   "outputs": [],
   "source": []
  }
 ],
 "metadata": {
  "kernelspec": {
   "display_name": "slate_analysis",
   "language": "python",
   "name": "slate_analysis"
  },
  "language_info": {
   "codemirror_mode": {
    "name": "ipython",
    "version": 3
   },
   "file_extension": ".py",
   "mimetype": "text/x-python",
   "name": "python",
   "nbconvert_exporter": "python",
   "pygments_lexer": "ipython3",
   "version": "3.8.0"
  }
 },
 "nbformat": 4,
 "nbformat_minor": 5
}
